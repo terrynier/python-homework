{
 "cells": [
  {
   "cell_type": "code",
   "execution_count": 160,
   "id": "9c75354b-ba07-4388-9832-aa3c93f8549f",
   "metadata": {},
   "outputs": [
    {
     "name": "stdout",
     "output_type": "stream",
     "text": [
      "\n",
      "Financial Analysis\n",
      "----------------------------\n",
      "Total Months: 86\n",
      "Total : $38382578\n",
      "Average Change: $-2315.1176470588234\n",
      "Greatest Increase in Profits: Feb-2012 ($1926159)\n",
      "Greatest Decrease in Profits: Sep-2013 ($-2196167)\n",
      "\n"
     ]
    }
   ],
   "source": [
    "# Import the Budget_data file and load it into Python\n",
    "import csv\n",
    "from pathlib import Path\n",
    "\n",
    "# Files to load and output\n",
    "load_file = \"budget_data.csv\"\n",
    "output_file = \"Output_file.txt\"\n",
    "\n",
    "# Initialize the data of the Dictionary \n",
    "total_months = 0\n",
    "month_of_change = []\n",
    "pnl_list = []\n",
    "greatest_increase = [\"\", 0]\n",
    "greatest_decrease = [\"\", 99999999]\n",
    "pnl = 0\n",
    "\n",
    "# Read the csv file and convert it into a list Dictionary\n",
    "with open(load_file) as pnl_data:\n",
    "    reader = csv.DictReader(pnl_data)\n",
    "\n",
    "    # Extract first row to avoid appending to pnl_list\n",
    "    first_row = next(reader)\n",
    "    total_months = total_months + 1\n",
    "    pnl = pnl + int(first_row[\"Profit/Losses\"])\n",
    "    prev_pnl = int(first_row[\"Profit/Losses\"])\n",
    "\n",
    "    for row in reader:\n",
    "\n",
    "        # The total number of months included in the dataset.\n",
    "        total_months = total_months + 1\n",
    "        pnl = pnl + int(row[\"Profit/Losses\"])\n",
    "\n",
    "        # The net total amount of Profit/Losses over the entire period.\n",
    "        pnl_change = int(row[\"Profit/Losses\"]) - prev_pnl\n",
    "        prev_pnl = int(row[\"Profit/Losses\"])\n",
    "        pnl_list = pnl_list + [pnl_change]\n",
    "        month_of_change = month_of_change + [row[\"Date\"]]\n",
    "\n",
    "        # The greatest increase in profits (date and amount) over the entire period.\n",
    "        if pnl_change > greatest_increase[1]:\n",
    "            greatest_increase[0] = row[\"Date\"]\n",
    "            greatest_increase[1] = pnl_change\n",
    "\n",
    "        # The greatest decrease in losses (date and amount) over the entire period.\n",
    "        if pnl_change < greatest_decrease[1]:\n",
    "            greatest_decrease[0] = row[\"Date\"]\n",
    "            greatest_decrease[1] = pnl_change\n",
    "\n",
    "\n",
    "# The average of the changes in Profit/Losses over the entire period.    \n",
    "revenue_avg = sum(pnl_list) / len(pnl_list)\n",
    "\n",
    "# Create the required output\n",
    "output = (\n",
    "    f\"\\nFinancial Analysis\\n\"\n",
    "    f\"----------------------------\\n\"\n",
    "    f\"Total Months: {total_months}\\n\"\n",
    "    f\"Total : ${pnl}\\n\"\n",
    "    f\"Average Change: ${revenue_avg}\\n\"\n",
    "    f\"Greatest Increase in Profits: {greatest_increase[0]} (${greatest_increase[1]})\\n\"\n",
    "    f\"Greatest Decrease in Profits: {greatest_decrease[0]} (${greatest_decrease[1]})\\n\")\n",
    "\n",
    "# Print the output tp the terminal\n",
    "print(output)\n",
    "\n",
    "# Export the results to text file\n",
    "with open(output_file, \"w\") as txt_file:\n",
    "    txt_file.write(output)"
   ]
  },
  {
   "cell_type": "code",
   "execution_count": null,
   "id": "def3cdc2-5a1b-43bb-b557-ae7b7845cb5e",
   "metadata": {},
   "outputs": [],
   "source": []
  },
  {
   "cell_type": "code",
   "execution_count": null,
   "id": "86bbdcfb-d1fe-446f-9665-ccb093b8cc7a",
   "metadata": {},
   "outputs": [],
   "source": []
  },
  {
   "cell_type": "code",
   "execution_count": null,
   "id": "655438df-2325-4ee4-9d84-b6ae5210a491",
   "metadata": {},
   "outputs": [],
   "source": [
    "\n"
   ]
  },
  {
   "cell_type": "code",
   "execution_count": null,
   "id": "14f66390-85e0-4c26-b91e-6a012825bcd5",
   "metadata": {},
   "outputs": [],
   "source": []
  }
 ],
 "metadata": {
  "kernelspec": {
   "display_name": "dev",
   "language": "python",
   "name": "dev"
  },
  "language_info": {
   "codemirror_mode": {
    "name": "ipython",
    "version": 3
   },
   "file_extension": ".py",
   "mimetype": "text/x-python",
   "name": "python",
   "nbconvert_exporter": "python",
   "pygments_lexer": "ipython3",
   "version": "3.7.10"
  }
 },
 "nbformat": 4,
 "nbformat_minor": 5
}
